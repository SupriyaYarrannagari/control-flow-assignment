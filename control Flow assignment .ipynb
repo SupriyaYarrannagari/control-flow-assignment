{
 "cells": [
  {
   "cell_type": "markdown",
   "id": "c685256b",
   "metadata": {},
   "source": [
    "# Basic if-else statements"
   ]
  },
  {
   "cell_type": "code",
   "execution_count": 2,
   "id": "48ed0325",
   "metadata": {},
   "outputs": [
    {
     "name": "stdout",
     "output_type": "stream",
     "text": [
      "enter the number:5\n",
      "odd number is: 5\n"
     ]
    }
   ],
   "source": [
    "#1-Write a Python program to check if a given number is positive or negative.\n",
    "n=int(input(\"enter the number:\"))\n",
    "if n%2==0:\n",
    "    print(\"even number is:\",n)\n",
    "else:\n",
    "    print(\"odd number is:\",n)\n",
    "    "
   ]
  },
  {
   "cell_type": "code",
   "execution_count": 1,
   "id": "f9241456",
   "metadata": {},
   "outputs": [
    {
     "name": "stdout",
     "output_type": "stream",
     "text": [
      "enter the age:21\n",
      "the person is eligible to vote\n"
     ]
    }
   ],
   "source": [
    "#2. Create a program that determines if a person is eligible to vote based on their age.\n",
    "age=int(input(\"enter the age:\"))\n",
    "if age >= 18:\n",
    "    print(\"the person is eligible to vote\")\n",
    "else:\n",
    "    print(\"the person does not eligible to vote\")"
   ]
  },
  {
   "cell_type": "code",
   "execution_count": 2,
   "id": "56788517",
   "metadata": {},
   "outputs": [
    {
     "name": "stdout",
     "output_type": "stream",
     "text": [
      "enter the first number:23\n",
      "enter the second number:45\n",
      "the maximum number is: 45\n"
     ]
    }
   ],
   "source": [
    "#3. Develop a program to find the maximum of two numbers using if-else statements.\n",
    "num1=int(input(\"enter the first number:\"))\n",
    "num2=int(input(\"enter the second number:\"))\n",
    "if num1>num2:\n",
    "    max_num = num1\n",
    "else:\n",
    "    max_num = num2\n",
    "print(\"the maximum number is:\",max_num)\n",
    "    "
   ]
  },
  {
   "cell_type": "code",
   "execution_count": 4,
   "id": "38591c4b",
   "metadata": {},
   "outputs": [
    {
     "name": "stdout",
     "output_type": "stream",
     "text": [
      "enter the year:7\n",
      "7 is not a leap year\n"
     ]
    }
   ],
   "source": [
    "#4. Write a Python script to classify a given year as a leap year or not.\n",
    "year=int(input(\"enter the year:\"))\n",
    "if (year % 4==0 and year % 100!=0) or (year % 400 == 0):\n",
    "    print(f\"{year} is a leap year\")\n",
    "else:\n",
    "    print(f\"{year} is not a leap year\")"
   ]
  },
  {
   "cell_type": "code",
   "execution_count": 8,
   "id": "0fdb4cad",
   "metadata": {},
   "outputs": [
    {
     "name": "stdout",
     "output_type": "stream",
     "text": [
      "enter the character:e\n",
      "e is a vowel\n"
     ]
    }
   ],
   "source": [
    "#5. Create a program that checks whether a character is a vowel or a consonant.\n",
    "char=input(\"enter the character:\")\n",
    "if len(char) == 1 and char.isalpha():\n",
    "    if char in 'aeiou':\n",
    "        print(f\"{char} is a vowel\")\n",
    "    else:\n",
    "        print(f\"{char} is an consonant\")\n",
    "else:\n",
    "    print(\"please enter the valid single character\")\n"
   ]
  },
  {
   "cell_type": "code",
   "execution_count": 9,
   "id": "571db22a",
   "metadata": {},
   "outputs": [
    {
     "name": "stdout",
     "output_type": "stream",
     "text": [
      "enter the number:4\n",
      "4 is a even number\n"
     ]
    }
   ],
   "source": [
    "#6. Implement a program to determine whether a given number is even or odd.\n",
    "num=int(input(\"enter the number:\"))\n",
    "if num % 2 == 0:\n",
    "    print(f\"{num} is a even number\")\n",
    "else:\n",
    "    print(f\"{num} is a odd number\")"
   ]
  },
  {
   "cell_type": "code",
   "execution_count": 13,
   "id": "9aba4820",
   "metadata": {},
   "outputs": [
    {
     "name": "stdout",
     "output_type": "stream",
     "text": [
      "the absolute_number of -5 is 5\n"
     ]
    }
   ],
   "source": [
    "#7. Write a Python function to calculate the absolute value of a number without using the `abs()` function.\n",
    "def absolute_value(number):\n",
    "    if number < 0:\n",
    "        return -number\n",
    "    else:\n",
    "        return number\n",
    "num=-5\n",
    "absolute_number=absolute_value(num)\n",
    "print(f\"the absolute_number of {num} is {absolute_number}\")"
   ]
  },
  {
   "cell_type": "code",
   "execution_count": 16,
   "id": "fe5a061b",
   "metadata": {},
   "outputs": [
    {
     "name": "stdout",
     "output_type": "stream",
     "text": [
      "enter first number:2\n",
      "enter second number:3\n",
      "enter third number:4\n",
      "the largest number is: 4\n"
     ]
    }
   ],
   "source": [
    "#8. Develop a program that determines the largest of three given numbers using if-else statements.\n",
    "num1=int(input(\"enter first number:\"))\n",
    "num2=int(input(\"enter second number:\"))\n",
    "num3= int(input(\"enter third number:\"))\n",
    "if num1 >=num2 and num1>= num3:\n",
    "    largets= num1\n",
    "elif num2 >= num1 and num2 >= num3:\n",
    "    largest = num2\n",
    "else:\n",
    "    largest = num3\n",
    "print(\"the largest number is:\",largest)"
   ]
  },
  {
   "cell_type": "code",
   "execution_count": 18,
   "id": "5c03f54b",
   "metadata": {},
   "outputs": [
    {
     "name": "stdout",
     "output_type": "stream",
     "text": [
      "enter the string:abba\n",
      "the input string is palindrome\n"
     ]
    }
   ],
   "source": [
    "#9. Create a program that checks if a given string is a palindrome.\n",
    "input_string=input(\"enter the string:\")\n",
    "if input_string[::-1]:\n",
    "    print(\"the input string is palindrome\")\n",
    "else:\n",
    "    print(\"the input string is not a palindrome\")"
   ]
  },
  {
   "cell_type": "code",
   "execution_count": 20,
   "id": "bba617e4",
   "metadata": {},
   "outputs": [
    {
     "name": "stdout",
     "output_type": "stream",
     "text": [
      "enter the students score:34\n",
      "the grade based on a students score is: F\n"
     ]
    }
   ],
   "source": [
    "#10. Write a Python program to calculate the grade based on a student's score.\n",
    "score=float(input(\"enter the students score:\"))\n",
    "if score >= 90:\n",
    "    grade = \"A\"\n",
    "elif score >= 80:\n",
    "    grade = \"B\"\n",
    "elif score >= 70:\n",
    "    grade = \"C\"\n",
    "elif score >= 60:\n",
    "    grade = \"D\"\n",
    "else:\n",
    "    grade =\"F\"\n",
    "print(f\"the grade based on a students score is:\",grade)"
   ]
  },
  {
   "cell_type": "markdown",
   "id": "e3fa3f35",
   "metadata": {},
   "source": [
    "# nested if-else statements"
   ]
  },
  {
   "cell_type": "code",
   "execution_count": 23,
   "id": "1f070290",
   "metadata": {},
   "outputs": [
    {
     "name": "stdout",
     "output_type": "stream",
     "text": [
      "enter the first number:2\n",
      "enter the second number:3\n",
      "enter the third number:4\n",
      "the largest number is: 4.0\n"
     ]
    }
   ],
   "source": [
    "#11. Write a program to find the largest among three numbers using nested if-else statements.\n",
    "num1=float(input(\"enter the first number:\"))\n",
    "num2=float(input(\"enter the second number:\"))\n",
    "num3=float(input(\"enter the third number:\"))\n",
    "if num1 >=num2:\n",
    "    if num1>=num3:\n",
    "        largest=num1\n",
    "    else:\n",
    "        largest=num3\n",
    "else:\n",
    "    if num2>=num3:\n",
    "        largest=num2\n",
    "    else:\n",
    "        largest=num3\n",
    "print(f\"the largest number is:\",largest)"
   ]
  },
  {
   "cell_type": "code",
   "execution_count": 26,
   "id": "9299b5e9",
   "metadata": {},
   "outputs": [
    {
     "name": "stdout",
     "output_type": "stream",
     "text": [
      "enter the length of the first side:4\n",
      "enter the length of the second side:4\n",
      "enter the length of the third side:4\n",
      "triangle_type is: equilateral\n"
     ]
    }
   ],
   "source": [
    "#12. Implement a program to determine if a triangle is equilateral, isosceles, or scalene.\n",
    "side1=float(input(\"enter the length of the first side:\"))\n",
    "side2=float(input(\"enter the length of the second side:\"))\n",
    "side3=float(input(\"enter the length of the third side:\"))\n",
    "if side1==side2==side3:\n",
    "    triangle_type=\"equilateral\"\n",
    "elif side1==side2 or side2==side3 or side3==side1:\n",
    "    triangle_type=\"isosceles\"\n",
    "else:\n",
    "    triangle_type=\"scalene\"\n",
    "print(f\"triangle_type is:\",triangle_type)"
   ]
  },
  {
   "cell_type": "code",
   "execution_count": 33,
   "id": "7d5d154b",
   "metadata": {},
   "outputs": [
    {
     "name": "stdout",
     "output_type": "stream",
     "text": [
      "enter the year:4\n",
      "4 is a leap year\n",
      "4 is not a centuary year\n"
     ]
    }
   ],
   "source": [
    "#13. Develop a program that checks if a year is a leap year and also if it is a century year.\n",
    "year=int(input(\"enter the year:\"))\n",
    "is_leap_year=(year % 4 == 0 and year % 100 != 0) or (year % 400 == 0)\n",
    "is_centuary_year=year%100==0\n",
    "if is_leap_year:\n",
    "    print(f\"{year} is a leap year\")\n",
    "else:\n",
    "    print(f\"{year} is not a leap year\")\n",
    "if is_centuary_year:\n",
    "    print(f\"{year} is a centuary year\")\n",
    "else:\n",
    "    print(f\"{year} is not a centuary year\")"
   ]
  },
  {
   "cell_type": "code",
   "execution_count": 35,
   "id": "25918204",
   "metadata": {},
   "outputs": [
    {
     "name": "stdout",
     "output_type": "stream",
     "text": [
      "enter the number:3\n",
      "3 is a negative number\n"
     ]
    }
   ],
   "source": [
    "#14. Write a Python script to determine if a number is positive, negative, or zero.\n",
    "number=int(input(\"enter the number:\"))\n",
    "if number % 2 == 0:\n",
    "    print(f\"{number} is a positive number\")\n",
    "elif number==0:\n",
    "    print(f\"{number} is a zero\")\n",
    "else:\n",
    "    print(f\"{number} is a negative number\")"
   ]
  },
  {
   "cell_type": "code",
   "execution_count": 41,
   "id": "8310ac46",
   "metadata": {},
   "outputs": [
    {
     "name": "stdout",
     "output_type": "stream",
     "text": [
      "enter the age:13\n",
      "the person is a teenager\n"
     ]
    }
   ],
   "source": [
    "#15. Create a program to check if a person is a teenager (between 13 and 19 years old).\n",
    "age=int(input(\"enter the age:\"))\n",
    "if 13<=age<=19:\n",
    "    print(f\"the person is a teenager\")\n",
    "else:\n",
    "    print(f\"the person is not a teenager\")"
   ]
  },
  {
   "cell_type": "code",
   "execution_count": 46,
   "id": "81b43b23",
   "metadata": {},
   "outputs": [
    {
     "name": "stdout",
     "output_type": "stream",
     "text": [
      "enter the measure of the angle in degree:200\n",
      "the angle of acute\n"
     ]
    }
   ],
   "source": [
    "#16. Develop a program that determines the type of angle based on its measure (acute, obtuse, or right).\n",
    "angle=int(input(\"enter the measure of the angle in degree:\"))\n",
    "if angle<90:\n",
    "    angle_type=\"obtuse\"\n",
    "elif angle == 90:\n",
    "    angle_type=\"right\"\n",
    "elif angle>90 or angle <180:\n",
    "    angle_type=\"acute\"\n",
    "else:\n",
    "    angle_type=\"reflex\"\n",
    "print(f\"the angle of {angle_type}\")\n",
    "    "
   ]
  },
  {
   "cell_type": "code",
   "execution_count": 7,
   "id": "dbc9cb8f",
   "metadata": {},
   "outputs": [
    {
     "name": "stdout",
     "output_type": "stream",
     "text": [
      "enter the coefficient of 'a':2\n",
      "enter the coefficient of 'b':3\n",
      "enter the coefficient of 'c':4\n",
      "root 1:-0.75+ 1.1989578808281798i\n",
      "root 2:-0.75 - 1.1989578808281798i\n"
     ]
    }
   ],
   "source": [
    "#17. Write a Python program to calculate the roots of a quadratic equation.\n",
    "import math\n",
    "a=float(input(\"enter the coefficient of 'a':\"))\n",
    "b=float(input(\"enter the coefficient of 'b':\"))\n",
    "c=float(input(\"enter the coefficient of 'c':\"))\n",
    "discriminant=b**2-4*a*c\n",
    "if discriminant > 0:\n",
    "    root1=(-b + math.sqrt(discriminant))/(2*a)\n",
    "    root2=(-b - math.sqrt(discriminant))/(2*a)\n",
    "    print(f\"root 1:{root1}\")\n",
    "    print(f\"root 2:{root2}\")\n",
    "elif discriminant == 0:\n",
    "    root = -b/(2*a)\n",
    "    print(f\"the root is real and repeated:{root}\")\n",
    "else:\n",
    "    real_part = -b/(2*a)\n",
    "    imaginary_part=math.sqrt(abs(discriminant))/(2*a)\n",
    "    print(f\"root 1:{real_part}+ {imaginary_part}i\")\n",
    "    print(f\"root 2:{real_part} - {imaginary_part}i\")"
   ]
  },
  {
   "cell_type": "code",
   "execution_count": 8,
   "id": "6ef2b260",
   "metadata": {},
   "outputs": [
    {
     "name": "stdout",
     "output_type": "stream",
     "text": [
      "enter the number:(1 for monday, 2 for tuesday, etc):4\n",
      "the day of the week is thur\n"
     ]
    }
   ],
   "source": [
    "#18. Implement a program to determine the day of the week based on a user-provided number (1 for Monday, 2 for Tuesday, etc.)\n",
    "day_number=int(input(\"enter the number:(1 for monday, 2 for tuesday, etc):\"))\n",
    "days_of_week=[\"monday\",\"tue\",\"wed\",\"thur\",\"fri\",\"sat\",\"sun\"]\n",
    "if 1 <= day_number <=7:\n",
    "    day_name=days_of_week[day_number-1]\n",
    "    print(f\"the day of the week is {day_name}\")\n",
    "else:\n",
    "    print(f\"invalid number.the day of the number lies between 1 and 7\")\n",
    "    \n",
    "    "
   ]
  },
  {
   "cell_type": "code",
   "execution_count": null,
   "id": "17645449",
   "metadata": {},
   "outputs": [],
   "source": [
    "# 19. Create a program that determines if a year is a leap year and also if it is evenly divisible by 400.\n",
    "year=int(input(\"enter the year:\"))\n",
    "if (year % 4 == 0 and year % 100 != 0) or (year % 400 == 0):\n",
    "    print(f\"{year} is a leap year\")\n",
    "else:\n",
    "    print(f\"{year} is not a leap year\")"
   ]
  },
  {
   "cell_type": "code",
   "execution_count": 16,
   "id": "0ba0447b",
   "metadata": {},
   "outputs": [
    {
     "name": "stdout",
     "output_type": "stream",
     "text": [
      "enter the number:6\n",
      "6 is not a prime number\n"
     ]
    }
   ],
   "source": [
    "#20. Develop a program that checks if a given number is prime or not using nested if-else statements.\n",
    "num=int(input(\"enter the number:\"))\n",
    "if num <= 2:\n",
    "    is_prime=False\n",
    "else:\n",
    "    is_prime=True\n",
    "    for i in range(2,int(num **0.5)+1):\n",
    "        if num % i ==0:\n",
    "            is_prime= False\n",
    "            break\n",
    "if is_prime:\n",
    "    print(f\"{num} is a prime number\")\n",
    "else:\n",
    "    print(f\"{num} is not a prime number\")\n",
    "        \n",
    "        "
   ]
  },
  {
   "cell_type": "markdown",
   "id": "02ad7b7c",
   "metadata": {},
   "source": [
    "# Elif Statements:"
   ]
  },
  {
   "cell_type": "code",
   "execution_count": 20,
   "id": "1f742353",
   "metadata": {},
   "outputs": [
    {
     "name": "stdout",
     "output_type": "stream",
     "text": [
      "enter the score:89\n",
      "the grade is:B\n"
     ]
    }
   ],
   "source": [
    "#21. Write a Python program to assign grades based on different ranges of scores using elif statements.\n",
    "score=float(input(\"enter the score:\"))\n",
    "if 90<=score<=100:\n",
    "    grade=\"A\"\n",
    "elif 80<=score <=90:\n",
    "    grade=\"B\"\n",
    "elif 70<=score <= 80:\n",
    "    grade=\"C\"\n",
    "elif 60<=score <= 70:\n",
    "    grade=\"D\"\n",
    "elif 0<= score <= 60:\n",
    "    grade=\"F\"\n",
    "else:\n",
    "    grade=\"invalid grade\"\n",
    "print(f\"the grade is:{grade}\")"
   ]
  },
  {
   "cell_type": "code",
   "execution_count": 25,
   "id": "3aa3c822",
   "metadata": {},
   "outputs": [
    {
     "name": "stdout",
     "output_type": "stream",
     "text": [
      "enter the  first angle in degrees:98\n",
      "enter the second angle in degrees:98\n",
      "enter the third angle in degrees:98\n",
      "this angles did not form a valid triangle\n"
     ]
    }
   ],
   "source": [
    "#22. Implement a program to determine the type of a triangle based on its angles.\n",
    "side1=float(input(\"enter the  first angle in degrees:\"))\n",
    "side2=float(input(\"enter the second angle in degrees:\"))\n",
    "side3=float(input(\"enter the third angle in degrees:\"))\n",
    "if side1+side2+side3==180:\n",
    "    if side1==side2==side3:\n",
    "        triangle_type=\"equilateral\"\n",
    "    elif side1==side2 or side2==side3 or side3== side1:\n",
    "        triangle_type=\"isosceles\"\n",
    "    else:\n",
    "        triangle_type=\"scalene\"\n",
    "    print(f\"the triangle is a {triangle_type} triangle\")\n",
    "else:\n",
    "    print(f\"this angles did not form a valid triangle\")\n"
   ]
  },
  {
   "cell_type": "code",
   "execution_count": 29,
   "id": "b2a0f61b",
   "metadata": {},
   "outputs": [
    {
     "name": "stdout",
     "output_type": "stream",
     "text": [
      "enter weight in kilograms:65\n",
      "enter height in meters:45\n",
      " your bmi is 0.032099,which falls into a category:underweight\n"
     ]
    }
   ],
   "source": [
    "#23. Develop a program to categorize a given person's BMI into underweight, normal, overweight, or obese using elif statements\n",
    "weight=float(input(\"enter weight in kilograms:\"))\n",
    "height=float(input(\"enter height in meters:\"))\n",
    "bmi=weight/(height**2)\n",
    "if bmi< 18.5:\n",
    "    category=(\"underweight\")\n",
    "elif 18.5<=bmi< 24.9:\n",
    "    category=(\"normal\")\n",
    "elif 25 <= bmi < 29.9:\n",
    "    catogory=(\"overweight\")\n",
    "else:\n",
    "    category=(\"obese\")\n",
    "print(f\" your bmi is {bmi:2f},which falls into a category:{category}\")"
   ]
  },
  {
   "cell_type": "code",
   "execution_count": 32,
   "id": "8cea24af",
   "metadata": {},
   "outputs": [
    {
     "name": "stdout",
     "output_type": "stream",
     "text": [
      "enter the number:4\n",
      "4 is a positive number\n"
     ]
    }
   ],
   "source": [
    "#24. Create a program that determines whether a given number is positive, negative, or zero using elif statements.\n",
    "number=int(input(\"enter the number:\"))\n",
    "if number % 2 == 0:\n",
    "    print(f\"{number} is a positive number\")\n",
    "elif number ==0:\n",
    "    print(f\"{number} is a zero\")\n",
    "else:\n",
    "    print(f\"{number} is a negative\")\n",
    "\n"
   ]
  },
  {
   "cell_type": "code",
   "execution_count": 37,
   "id": "8731736a",
   "metadata": {},
   "outputs": [
    {
     "name": "stdout",
     "output_type": "stream",
     "text": [
      "enter the characer:@Supriya\n",
      "the character is @Supriya is a special character\n"
     ]
    }
   ],
   "source": [
    "#25. Write a Python script to determine the type of a character (uppercase, lowercase, or special) using elif statements.\n",
    "char=input(\"enter the characer:\")\n",
    "if char.isupper():\n",
    "    char_type=\"uppercase\"\n",
    "elif char.islower():\n",
    "    char_type=\"lowercase\"\n",
    "else:\n",
    "    char_type=\"special\"\n",
    "print(f\"the character is {char} is a {char_type} character\")"
   ]
  },
  {
   "cell_type": "code",
   "execution_count": 42,
   "id": "19d9e879",
   "metadata": {},
   "outputs": [
    {
     "name": "stdout",
     "output_type": "stream",
     "text": [
      "enter the purchase amount:120\n",
      "original_price:$234.00\n",
      "discounted_price:$108.00\n"
     ]
    }
   ],
   "source": [
    "#26. Implement a program to calculate the discounted price based on different purchase amounts using elif statements.\n",
    "purchase_amount=int(input(\"enter the purchase amount:\"))\n",
    "if purcase_amount < 100:\n",
    "    discount=0\n",
    "elif purchase_amount<500:\n",
    "    discount =10\n",
    "elif purchase_amount <1000:\n",
    "    discount =20\n",
    "else:\n",
    "    discount= 30\n",
    "discounted_price=purchase_amount-(purchase_amount * discount/100)\n",
    "print(f\"original_price:${purcase_amount:.2f}\")\n",
    "print(f\"discounted_price:${discounted_price:.2f}\")"
   ]
  },
  {
   "cell_type": "code",
   "execution_count": 43,
   "id": "f0d7f5a9",
   "metadata": {},
   "outputs": [
    {
     "name": "stdout",
     "output_type": "stream",
     "text": [
      "Enter electricity consumption (in kWh): 34\n",
      "Electricity Consumption: 34.0 kWh\n",
      "Electricity Bill: $17.00\n"
     ]
    }
   ],
   "source": [
    "#27. Develop a program to calculate the electricity bill based on different consumption slabs using elif statements.\n",
    "consumption = float(input(\"Enter electricity consumption (in kWh): \"))\n",
    "rate_slab1 = 0.5  \n",
    "rate_slab2 = 0.7  \n",
    "rate_slab3 = 1.0  \n",
    "if consumption <= 100:\n",
    "    bill = consumption * rate_slab1\n",
    "elif consumption <= 200:\n",
    "    bill = 100 * rate_slab1 + (consumption - 100) * rate_slab2\n",
    "else:\n",
    "    bill = 100 * rate_slab1 + 100 * rate_slab2 + (consumption - 200) * rate_slab3\n",
    "print(f\"Electricity Consumption: {consumption} kWh\")\n",
    "print(f\"Electricity Bill: ${bill:.2f}\")"
   ]
  },
  {
   "cell_type": "code",
   "execution_count": 48,
   "id": "77f087a7",
   "metadata": {},
   "outputs": [
    {
     "name": "stdout",
     "output_type": "stream",
     "text": [
      "enter the first angle in degrees:90\n",
      "enter the second angle in degrees:90\n",
      "enter the third angle in degrees:90\n",
      "enter the fourth angle in degrees:90\n",
      "enter the length of the first side:2\n",
      "enter the length of the second side:2\n",
      "enter the length of the third side:2\n",
      "enter the length of the fourth side:2\n",
      "the given is a square\n"
     ]
    }
   ],
   "source": [
    "#28. Create a program to determine the type of quadrilateral based on its angles and sides using elif statements.\n",
    "angle1=float(input(\"enter the first angle in degrees:\"))\n",
    "angle2=float(input(\"enter the second angle in degrees:\"))\n",
    "angle3=float(input(\"enter the third angle in degrees:\"))\n",
    "angle4=float(input(\"enter the fourth angle in degrees:\"))\n",
    "side1=float(input(\"enter the length of the first side:\"))\n",
    "side2=float(input(\"enter the length of the second side:\"))\n",
    "side3=float(input(\"enter the length of the third side:\"))\n",
    "side4=float(input(\"enter the length of the fourth side:\"))\n",
    "if angle1+angle2+angle3+angle4==360 and side1+side2+side3+side4>0:\n",
    "    if angle1==angle2==angle3==angle4==90:\n",
    "        if side1==side2==side3==side4:\n",
    "            quadrilateral_type=\"square\"\n",
    "        else:\n",
    "            quadrilateral_type = \"rectangle\"\n",
    "    elif side1==side2==side3==side4:\n",
    "        if angle1==angle2==angle3==angle4:\n",
    "            quadrilateral_type=\"rhombus\"\n",
    "        else:\n",
    "            quadrilateral_type=\"parallellogram\"\n",
    "    else:\n",
    "        quadrilateral_type=\"quadrilateral\"\n",
    "else:\n",
    "    quadrilateral_type=\"invalid input\"\n",
    "print(f\"the given is a {quadrilateral_type}\")"
   ]
  },
  {
   "cell_type": "code",
   "execution_count": 49,
   "id": "182e6f93",
   "metadata": {},
   "outputs": [
    {
     "name": "stdout",
     "output_type": "stream",
     "text": [
      "Enter a month (e.g., January, February, etc.): january\n",
      "The season for January is Winter.\n"
     ]
    }
   ],
   "source": [
    "#29. Write a Python script to determine the season based on a user-provided month using elif statement.\n",
    "month = input(\"Enter a month (e.g., January, February, etc.): \")\n",
    "month = month.lower()\n",
    "if month in [\"december\", \"january\", \"february\"]:\n",
    "    season = \"Winter\"\n",
    "elif month in [\"march\", \"april\", \"may\"]:\n",
    "    season = \"Spring\"\n",
    "elif month in [\"june\", \"july\", \"august\"]:\n",
    "    season = \"Summer\"\n",
    "elif month in [\"september\", \"october\", \"november\"]:\n",
    "    season = \"Fall\"\n",
    "else:\n",
    "    season = \"Invalid month\"\n",
    "if season != \"Invalid month\":\n",
    "    print(f\"The season for {month.capitalize()} is {season}.\")\n",
    "else:\n",
    "    print(\"Invalid input. Please enter a valid month.\")"
   ]
  },
  {
   "cell_type": "code",
   "execution_count": 51,
   "id": "964f52ca",
   "metadata": {},
   "outputs": [
    {
     "name": "stdout",
     "output_type": "stream",
     "text": [
      "Enter a year: 4\n",
      "Enter a month number (1 for January, 2 for February, etc.): 8\n",
      "4 is a Leap year.\n",
      "Month 8 has 31 days.\n"
     ]
    }
   ],
   "source": [
    "#30. Implement a program to determine the type of a year (leap or common) and month (30 or 31 days) using elif statements.\n",
    "year = int(input(\"Enter a year: \"))\n",
    "month = int(input(\"Enter a month number (1 for January, 2 for February, etc.): \"))\n",
    "if (year % 4 == 0 and year % 100 != 0) or (year % 400 == 0):\n",
    "    year_type = \"Leap\"\n",
    "else:\n",
    "    year_type = \"Common\"\n",
    "if month in [4, 6, 9, 11]:\n",
    "    days_in_month = 30\n",
    "elif month == 2:\n",
    "    if year_type == \"Leap\":\n",
    "        days_in_month = 29\n",
    "    else:\n",
    "        days_in_month = 28\n",
    "else:\n",
    "    days_in_month = 31\n",
    "print(f\"{year} is a {year_type} year.\")\n",
    "print(f\"Month {month} has {days_in_month} days.\")"
   ]
  },
  {
   "cell_type": "markdown",
   "id": "cf54422b",
   "metadata": {},
   "source": [
    "# Basic Level"
   ]
  },
  {
   "cell_type": "code",
   "execution_count": 1,
   "id": "0011acdb",
   "metadata": {},
   "outputs": [
    {
     "name": "stdout",
     "output_type": "stream",
     "text": [
      "enter the number:7\n",
      "7 is a negative number\n"
     ]
    }
   ],
   "source": [
    "#1. Write a Python program that checks if a given number is positive, negative, or zero.\n",
    "number=int(input(\"enter the number:\"))\n",
    "if number % 2 == 0:\n",
    "    print(f\"{number} is a postive number\")\n",
    "elif number == 0:\n",
    "    print(f\"{number} is a zero number\")\n",
    "else:\n",
    "    print(f\"{number} is a negative number\")"
   ]
  },
  {
   "cell_type": "code",
   "execution_count": 2,
   "id": "ee70db36",
   "metadata": {},
   "outputs": [
    {
     "name": "stdout",
     "output_type": "stream",
     "text": [
      "enter the age:13\n",
      "the person is not eligible for vote\n"
     ]
    }
   ],
   "source": [
    "#2. Create a program to determine if a person is eligible to vote based on their age.\n",
    "age=int(input(\"enter the age:\"))\n",
    "if age>=18:\n",
    "    print(\"the person is eligible for vote\")\n",
    "else:\n",
    "    print(\"the person is not eligible for vote\")"
   ]
  },
  {
   "cell_type": "code",
   "execution_count": 4,
   "id": "9a2d73e3",
   "metadata": {},
   "outputs": [
    {
     "name": "stdout",
     "output_type": "stream",
     "text": [
      "enter the first number:23\n",
      "enter the second number:45\n",
      "the maximumm number is: 45\n"
     ]
    }
   ],
   "source": [
    "#3. Write a program to find the maximum of two given numbers using conditional statements.\n",
    "num1=int(input(\"enter the first number:\"))\n",
    "num2=int(input(\"enter the second number:\"))\n",
    "if num1> num2:\n",
    "    max_num= num1\n",
    "else:\n",
    "    max_num= num2\n",
    "print(f\"the maximumm number is: {max_num}\")"
   ]
  },
  {
   "cell_type": "code",
   "execution_count": 7,
   "id": "a8804474",
   "metadata": {},
   "outputs": [
    {
     "name": "stdout",
     "output_type": "stream",
     "text": [
      "enter the score:82\n",
      "the grade of the student is: B\n"
     ]
    }
   ],
   "source": [
    "#4. Develop a program that calculates the grade of a student based on their exam score.\n",
    "score=int(input(\"enter the score:\"))\n",
    "if score >= 90:\n",
    "    grade = \"A\"\n",
    "elif score >= 80:\n",
    "    grade = \"B\"\n",
    "elif score >= 70:\n",
    "    grade = \"C\"\n",
    "elif score >= 60:\n",
    "    grade = \"D\"\n",
    "else:\n",
    "    grade = \"F\"\n",
    "print(f\"the grade of the student is: {grade}\")"
   ]
  },
  {
   "cell_type": "code",
   "execution_count": 8,
   "id": "91c3999c",
   "metadata": {},
   "outputs": [
    {
     "name": "stdout",
     "output_type": "stream",
     "text": [
      "enter the year:6\n",
      "6 is not a leap year\n"
     ]
    }
   ],
   "source": [
    "#5. Create a program that checks if a year is a leap year or not.\n",
    "year=int(input(\"enter the year:\"))\n",
    "if (year % 4 ==0 and year % 200 != 0) or (year % 400 == 0):\n",
    "    print(f\"{year} is a leap year\")\n",
    "else:\n",
    "    print(f\"{year} is not a leap year\")"
   ]
  },
  {
   "cell_type": "code",
   "execution_count": 11,
   "id": "1d24d3f3",
   "metadata": {},
   "outputs": [
    {
     "name": "stdout",
     "output_type": "stream",
     "text": [
      "enter the length of the first side:45\n",
      "enter the length of the second side45\n",
      "enter the length of the third side45\n",
      "the triangle is a equilateral triangle\n"
     ]
    }
   ],
   "source": [
    "#6. Write a program to classify a triangle based on its sides' lengths.\n",
    "side1=float(input(\"enter the length of the first side:\"))\n",
    "side2=float(input(\"enter the length of the second side\"))\n",
    "side3=float(input(\"enter the length of the third side\"))\n",
    "if side1 == side2 == side3:\n",
    "    triangle_type = \"equilateral triangle\"\n",
    "elif side1 == side2 or side2==side3 or side3==side1:\n",
    "    triangle_type =\"isoseles triangle\"\n",
    "else:\n",
    "    triangle_type=\"rectangular triangle\"\n",
    "print(f\"the triangle is a {triangle_type}\")"
   ]
  },
  {
   "cell_type": "code",
   "execution_count": 17,
   "id": "5f1840b2",
   "metadata": {},
   "outputs": [
    {
     "name": "stdout",
     "output_type": "stream",
     "text": [
      "enter the first number:12\n",
      "enter the second number:23\n",
      "enter the third number:45\n",
      "45 is a largest number\n"
     ]
    }
   ],
   "source": [
    "#7. Build a program that determines the largest of three given numbers.\n",
    "num1=int(input(\"enter the first number:\"))\n",
    "num2=int(input(\"enter the second number:\"))\n",
    "num3=int(input(\"enter the third number:\"))\n",
    "if num1 >= num2:\n",
    "    largest_number = num1\n",
    "elif num2 < num3:\n",
    "    largest_number = num3\n",
    "else:\n",
    "    largest_number = num2\n",
    "print(f\"{largest_number} is a largest number\")"
   ]
  },
  {
   "cell_type": "code",
   "execution_count": 19,
   "id": "40e197b3",
   "metadata": {},
   "outputs": [
    {
     "name": "stdout",
     "output_type": "stream",
     "text": [
      "enter the character:h\n",
      "the h is a consonanat\n"
     ]
    }
   ],
   "source": [
    "#8. Develop a program that checks whether a character is a vowel or a consonant.\n",
    "char=input(\"enter the character:\")\n",
    "if char in 'aeiou':\n",
    "    char_type=\"vowel\"\n",
    "else:\n",
    "    char_type=\"consonant\"\n",
    "print(f\"the {char} is a {char_type}\")"
   ]
  },
  {
   "cell_type": "code",
   "execution_count": 21,
   "id": "bfb04c57",
   "metadata": {},
   "outputs": [
    {
     "name": "stdout",
     "output_type": "stream",
     "text": [
      "enter the cost:89\n",
      "the total_ cost of the purchasecost for 30\n"
     ]
    }
   ],
   "source": [
    "#9. Create a program to calculate the total cost of a shopping cart based on discounts\n",
    "purchasecost=int(input(\"enter the cost:\"))\n",
    "if purchasecost >= 100:\n",
    "    discount=10\n",
    "elif purchasecost >= 90:\n",
    "    discount=20\n",
    "elif purchasecost >= 80:\n",
    "    discount =30\n",
    "elif purchasecost >= 70:\n",
    "    discount =40\n",
    "else:\n",
    "    discount = 50\n",
    "print(f\"the total_ cost of the purchasecost for {discount}\")"
   ]
  },
  {
   "cell_type": "code",
   "execution_count": 22,
   "id": "d533caf1",
   "metadata": {},
   "outputs": [
    {
     "name": "stdout",
     "output_type": "stream",
     "text": [
      "enter the number:45\n",
      "the 45 is a odd number\n"
     ]
    }
   ],
   "source": [
    "#10. Write a program that checks if a given number is even or odd.\n",
    "number=int(input(\"enter the number:\"))\n",
    "if number % 2 == 0:\n",
    "    print(f\"the {number} is a even number\")\n",
    "else:\n",
    "    print(f\"the {number} is a odd number\")"
   ]
  },
  {
   "cell_type": "markdown",
   "id": "2e292fa9",
   "metadata": {},
   "source": [
    "# Intermediate Level:"
   ]
  },
  {
   "cell_type": "code",
   "execution_count": 25,
   "id": "3bf2b291",
   "metadata": {},
   "outputs": [
    {
     "name": "stdout",
     "output_type": "stream",
     "text": [
      "Enter coefficient a: 12\n",
      "Enter coefficient b: 34\n",
      "Enter coefficient c: 23\n",
      "The roots are real and distinct: Root 1 = -1.1162040603780008, Root 2 = -1.7171292729553322\n"
     ]
    }
   ],
   "source": [
    "#11. Write a program that calculates the roots of a quadratic equation .\n",
    "import math\n",
    "def calculate_quadratic_equation(a,b,c):\n",
    "    discriminant=b**2-4*a*c\n",
    "    if discriminant > 0:\n",
    "        root1=(-b +math.sqrt(discriminant))/(2*a)\n",
    "        root2=(-b-math.sqrt(discriminant))/(2*a)\n",
    "        return root1, root2\n",
    "    elif discriminant == 0:\n",
    "        root =-b /(2*a)\n",
    "        return root\n",
    "    else:\n",
    "        real_part = -b / (2*a)\n",
    "        imaginary_part = math.sqrt(abs(discriminant)) / (2*a)\n",
    "        return complex(real_part, imaginary_part), complex(real_part, -imaginary_part)\n",
    "a = float(input(\"Enter coefficient a: \"))\n",
    "b = float(input(\"Enter coefficient b: \"))\n",
    "c = float(input(\"Enter coefficient c: \"))\n",
    "roots = calculate_quadratic_equation(a, b, c)\n",
    "if len(roots) == 2:\n",
    "    root1, root2 = roots\n",
    "    print(f\"The roots are real and distinct: Root 1 = {root1}, Root 2 = {root2}\")\n",
    "elif len(roots) == 1:\n",
    "    root = roots[0]\n",
    "    print(f\"The root is real and equal: Root = {root}\")\n",
    "else:\n",
    "    root1, root2 = roots\n",
    "    print(f\"The roots are complex: Root 1 = {root1}, Root 2 = {root2}\")"
   ]
  },
  {
   "cell_type": "code",
   "execution_count": 28,
   "id": "43ae2cb0",
   "metadata": {},
   "outputs": [
    {
     "name": "stdout",
     "output_type": "stream",
     "text": [
      "enter the number(1-7):6\n",
      "the day of the week is:saturday\n"
     ]
    }
   ],
   "source": [
    "#12. Create a program that determines the day of the week based on the day number (1-7).\n",
    "day_mapping={\n",
    "    1:\"monday\",\n",
    "    2:\"tuesday\",\n",
    "    3:\"wednesday\",\n",
    "    4:\"thursday\",\n",
    "    5:\"friday\",\n",
    "    6:\"saturday\",\n",
    "    7:\"sunday\"\n",
    "}\n",
    "def determine_day_of_week(day_number):\n",
    "    if day_number in day_mapping:\n",
    "        return day_mapping[day_number]\n",
    "    else:\n",
    "        return \"invalid number\"\n",
    "day_number=int(input(\"enter the number(1-7):\"))\n",
    "day_of_the_week=determine_day_of_week(day_number)\n",
    "print(f\"the day of the week is:{day_of_the_week}\")    "
   ]
  },
  {
   "cell_type": "code",
   "execution_count": 33,
   "id": "f54511d1",
   "metadata": {},
   "outputs": [
    {
     "name": "stdout",
     "output_type": "stream",
     "text": [
      "enter the non negative number:23\n",
      "23!=25852016738884976640000\n"
     ]
    }
   ],
   "source": [
    "#13. Develop a program that calculates the factorial of a given number using recursion.\n",
    "def factorial(n):\n",
    "    if n == 0:\n",
    "        return 1\n",
    "    else:\n",
    "        return n* factorial(n-1)\n",
    "n=int(input(\"enter the non negative number:\"))\n",
    "if n < 0:\n",
    "    print(\"factorial number is not defined for negative number\")\n",
    "else:\n",
    "    result=factorial(n)\n",
    "    print(f\"{n}!={result}\")"
   ]
  },
  {
   "cell_type": "code",
   "execution_count": 34,
   "id": "ecffdf28",
   "metadata": {},
   "outputs": [
    {
     "name": "stdout",
     "output_type": "stream",
     "text": [
      "enter the first number:23\n",
      "enter the second number:45\n",
      "enter the third number:78\n",
      "the largest number is: 78.0\n"
     ]
    }
   ],
   "source": [
    "#14. Write a program to find the largest among three numbers without using the `max()` function.\n",
    "num1=float(input(\"enter the first number:\"))\n",
    "num2=float(input(\"enter the second number:\"))\n",
    "num3=float(input(\"enter the third number:\"))\n",
    "if num1 >=num2:\n",
    "    if num1>=num3:\n",
    "        largest=num1\n",
    "    else:\n",
    "        largest=num3\n",
    "else:\n",
    "    if num2>=num3:\n",
    "        largest=num2\n",
    "    else:\n",
    "        largest=num3\n",
    "print(f\"the largest number is:\",largest)"
   ]
  },
  {
   "cell_type": "code",
   "execution_count": 35,
   "id": "0722139c",
   "metadata": {},
   "outputs": [
    {
     "name": "stdout",
     "output_type": "stream",
     "text": [
      "Welcome to the ATM!\n",
      "1. Check Balance\n",
      "2. Deposit Money\n",
      "3. Withdraw Money\n",
      "4. Exit\n",
      "Please select an option (1/2/3/4): 3\n",
      "Enter the amount to withdraw: $500\n",
      "$500.00 has been withdrawn from your account.\n",
      "Welcome to the ATM!\n",
      "1. Check Balance\n",
      "2. Deposit Money\n",
      "3. Withdraw Money\n",
      "4. Exit\n",
      "Please select an option (1/2/3/4): 2\n",
      "Enter the amount to deposit: $1500\n",
      "$1500.00 has been deposited to your account.\n",
      "Welcome to the ATM!\n",
      "1. Check Balance\n",
      "2. Deposit Money\n",
      "3. Withdraw Money\n",
      "4. Exit\n",
      "Please select an option (1/2/3/4): 1\n",
      "Your account balance is $2000.00\n",
      "Welcome to the ATM!\n",
      "1. Check Balance\n",
      "2. Deposit Money\n",
      "3. Withdraw Money\n",
      "4. Exit\n",
      "Please select an option (1/2/3/4): 4\n",
      "Thank you for using the ATM. Have a nice day!\n"
     ]
    }
   ],
   "source": [
    "#15. Create a program that simulates a basic ATM transaction menu.\n",
    "account_balance = 1000\n",
    "def display_menu():\n",
    "    print(\"Welcome to the ATM!\")\n",
    "    print(\"1. Check Balance\")\n",
    "    print(\"2. Deposit Money\")\n",
    "    print(\"3. Withdraw Money\")\n",
    "    print(\"4. Exit\")\n",
    "def check_balance():\n",
    "    print(f\"Your account balance is ${account_balance:.2f}\")\n",
    "def deposit_money():\n",
    "    global account_balance\n",
    "    amount = float(input(\"Enter the amount to deposit: $\"))\n",
    "    if amount > 0:\n",
    "        account_balance += amount\n",
    "        print(f\"${amount:.2f} has been deposited to your account.\")\n",
    "    else:\n",
    "        print(\"Invalid amount. Deposit must be greater than zero.\")\n",
    "def withdraw_money():\n",
    "    global account_balance\n",
    "    amount = float(input(\"Enter the amount to withdraw: $\"))\n",
    "    if amount > 0 and amount <= account_balance:\n",
    "        account_balance -= amount\n",
    "        print(f\"${amount:.2f} has been withdrawn from your account.\")\n",
    "    elif amount <= 0:\n",
    "        print(\"Invalid amount. Withdrawal amount must be greater than zero.\")\n",
    "    else:\n",
    "        print(\"Insufficient funds. Withdrawal amount exceeds your account balance.\")\n",
    "while True:\n",
    "    display_menu()\n",
    "    choice = input(\"Please select an option (1/2/3/4): \")\n",
    "\n",
    "    if choice == \"1\":\n",
    "        check_balance()\n",
    "    elif choice == \"2\":\n",
    "        deposit_money()\n",
    "    elif choice == \"3\":\n",
    "        withdraw_money()\n",
    "    elif choice == \"4\":\n",
    "        print(\"Thank you for using the ATM. Have a nice day!\")\n",
    "        break\n",
    "    else:\n",
    "        print(\"Invalid choice. Please select a valid option.\")"
   ]
  },
  {
   "cell_type": "code",
   "execution_count": 41,
   "id": "0ef05ff3",
   "metadata": {},
   "outputs": [
    {
     "name": "stdout",
     "output_type": "stream",
     "text": [
      "enter the string:madam\n",
      "the given string is a palindrome\n"
     ]
    }
   ],
   "source": [
    "#16. Build a program that checks if a given string is a palindrome or not.\n",
    "input_string=input(\"enter the string:\")\n",
    "if input_string[::-1]:\n",
    "    print(\"the given string is a palindrome\")\n",
    "else:\n",
    "    print(\"the given string is not a palindrome\")"
   ]
  },
  {
   "cell_type": "code",
   "execution_count": 47,
   "id": "9bc65be0",
   "metadata": {},
   "outputs": [
    {
     "name": "stdout",
     "output_type": "stream",
     "text": [
      "enter the list of the numbers separated by space:2\n",
      "not enough to calculate the average number\n"
     ]
    }
   ],
   "source": [
    "#17. Write a program that calculates the average of a list of numbers, excluding the smallest and largest values.\n",
    "def calculate_average_excluding_numbers(numbers):\n",
    "    if len(numbers)< 3:\n",
    "        return \"not enough to calculate the average number\"\n",
    "    min_value=min(numbers)\n",
    "    max_number=max(numbers)\n",
    "    numbers.remove(min_value)\n",
    "    numbers.remove(max_number)\n",
    "    total=sum(number)\n",
    "    average=total/len(numbers)\n",
    "    return average\n",
    "numbers=[float for x in input(\"enter the list of the numbers separated by space:\").split()]\n",
    "result=calculate_average_excluding_numbers(numbers)\n",
    "if isinstance(result,str):\n",
    "    print(result)\n",
    "else:\n",
    "    print(f\"the average is {result:.2f}:\")\n"
   ]
  },
  {
   "cell_type": "code",
   "execution_count": 49,
   "id": "1fad4b8a",
   "metadata": {},
   "outputs": [
    {
     "name": "stdout",
     "output_type": "stream",
     "text": [
      "Enter temperature in Celsius: 23.45\n",
      "23.45°C is equal to 74.21°F\n"
     ]
    }
   ],
   "source": [
    "#18. Develop a program that converts a given temperature from Celsius to Fahrenheit.\n",
    "def celsius_to_fahrenheit(celsius):\n",
    "    fahrenheit = (celsius * 9/5) + 32\n",
    "    return fahrenheit\n",
    "celsius = float(input(\"Enter temperature in Celsius: \"))\n",
    "fahrenheit = celsius_to_fahrenheit(celsius)\n",
    "print(f\"{celsius}°C is equal to {fahrenheit}°F\")"
   ]
  },
  {
   "cell_type": "code",
   "execution_count": 50,
   "id": "8e3b26f8",
   "metadata": {},
   "outputs": [
    {
     "name": "stdout",
     "output_type": "stream",
     "text": [
      "enter the first number:4\n",
      "enter the second number:6\n",
      "10\n",
      "-2\n",
      "24\n",
      "0.6666666666666666\n"
     ]
    }
   ],
   "source": [
    "#19. Create a program that simulates a basic calculator for addition, subtraction, multiplication, and division.\n",
    "num1=int(input(\"enter the first number:\"))\n",
    "num2=int(input(\"enter the second number:\"))\n",
    "add=num1+num2\n",
    "print(add)\n",
    "sub=num1-num2\n",
    "print(sub)\n",
    "mul=num1*num2\n",
    "print(mul)\n",
    "div=num1/num2\n",
    "print(div)"
   ]
  },
  {
   "cell_type": "code",
   "execution_count": 52,
   "id": "f4aaecc2",
   "metadata": {},
   "outputs": [
    {
     "name": "stdout",
     "output_type": "stream",
     "text": [
      "Enter coefficient a: 2\n",
      "Enter coefficient b: 3\n",
      "Enter coefficient c: 4\n",
      "Enter coefficient d: 5\n",
      "Roots of the cubic equation:\n",
      "Real Root: (0.45027771716561205+1.0515927364911j)\n",
      "Imaginary Root: 0\n"
     ]
    }
   ],
   "source": [
    "#20. Write a program that determines the roots of a cubic equation using the Cardano formula.\n",
    "import math\n",
    "def cubic_roots(a, b, c, d):\n",
    "    p = c / a - (b**2) / (3 * (a**2))\n",
    "    q = (2 * (b**3)) / (27 * (a**3)) - (b * c) / (3 * (a**2)) + d / a\n",
    "    discriminant = (q**2) / 4 + (p**3) / 27\n",
    "    if discriminant > 0:\n",
    "        root1 = (-q / 2 + math.sqrt(discriminant))**(1/3)\n",
    "        root2 = (-q / 2 - math.sqrt(discriminant))**(1/3)\n",
    "        real_root = root1 + root2 - b / (3 * a)\n",
    "        imaginary_root = 0\n",
    "    elif discriminant == 0:\n",
    "        root1 = -2 * (q / 2)**(1/3)\n",
    "        real_root = root1 - b / (3 * a)\n",
    "        imaginary_root = 0\n",
    "    else:\n",
    "        r = math.sqrt(-(p**3) / 27)\n",
    "        theta = math.acos(-q / (2 * r))\n",
    "        root1 = 2 * math.pow(r, 1/3) * math.cos(theta / 3)\n",
    "        root2 = 2 * math.pow(r, 1/3) * math.cos((theta + 2 * math.pi) / 3)\n",
    "        root3 = 2 * math.pow(r, 1/3) * math.cos((theta + 4 * math.pi) / 3)\n",
    "        real_root = root1 - b / (3 * a)\n",
    "        imaginary_root = 0\n",
    "    return real_root, imaginary_root\n",
    "a = float(input(\"Enter coefficient a: \"))\n",
    "b = float(input(\"Enter coefficient b: \"))\n",
    "c = float(input(\"Enter coefficient c: \"))\n",
    "d = float(input(\"Enter coefficient d: \"))\n",
    "real_root, imaginary_root = cubic_roots(a, b, c, d)\n",
    "print(\"Roots of the cubic equation:\")\n",
    "print(f\"Real Root: {real_root}\")\n",
    "print(f\"Imaginary Root: {imaginary_root}\")"
   ]
  },
  {
   "cell_type": "markdown",
   "id": "8f579c4c",
   "metadata": {},
   "source": [
    "# Advanced Level:"
   ]
  },
  {
   "cell_type": "code",
   "execution_count": 53,
   "id": "12c49d37",
   "metadata": {},
   "outputs": [
    {
     "name": "stdout",
     "output_type": "stream",
     "text": [
      "Enter your annual income: 234\n",
      "Your income tax is: $23.40\n"
     ]
    }
   ],
   "source": [
    "#21. Create a program that calculates the income tax based on the user's income and tax brackets.\n",
    "tax_brackets = [\n",
    "    (10000, 0.10), \n",
    "    (30000, 0.20),  \n",
    "    (70000, 0.30),  \n",
    "    (100000, 0.40)  \n",
    "]\n",
    "def calculate_income_tax(income):\n",
    "    tax = 0\n",
    "    remaining_income = income\n",
    "    for bracket in tax_brackets:\n",
    "        if remaining_income <= 0:\n",
    "            break\n",
    "        bracket_limit, tax_rate = bracket\n",
    "        if remaining_income <= bracket_limit:\n",
    "            tax += remaining_income * tax_rate\n",
    "            break\n",
    "        else:\n",
    "            tax += bracket_limit * tax_rate\n",
    "            remaining_income -= bracket_limit\n",
    "    return tax\n",
    "income = float(input(\"Enter your annual income: \"))\n",
    "income_tax = calculate_income_tax(income)\n",
    "print(f\"Your income tax is: ${income_tax:.2f}\")"
   ]
  },
  {
   "cell_type": "code",
   "execution_count": 54,
   "id": "0e0dd6cb",
   "metadata": {},
   "outputs": [
    {
     "name": "stdout",
     "output_type": "stream",
     "text": [
      "Rock, Paper, Scissors Game\n",
      "Enter your choice: (rock, paper, scissors)\n",
      "rock\n",
      "You chose: rock\n",
      "Computer chose: rock\n",
      "It's a tie!\n",
      "Do you want to play again? (yes or no): yes\n",
      "Rock, Paper, Scissors Game\n",
      "Enter your choice: (rock, paper, scissors)\n",
      "paper\n",
      "You chose: paper\n",
      "Computer chose: scissors\n",
      "Computer wins!\n",
      "Do you want to play again? (yes or no): no\n"
     ]
    }
   ],
   "source": [
    "#22. Write a program that simulates a rock-paper-scissors game against the computer.\n",
    "import random\n",
    "def get_computer_choice():\n",
    "    choices = [\"rock\", \"paper\", \"scissors\"]\n",
    "    return random.choice(choices)\n",
    "def determine_winner(player_choice, computer_choice):\n",
    "    if player_choice == computer_choice:\n",
    "        return \"It's a tie!\"\n",
    "    elif (player_choice == \"rock\" and computer_choice == \"scissors\") or \\\n",
    "         (player_choice == \"paper\" and computer_choice == \"rock\") or \\\n",
    "         (player_choice == \"scissors\" and computer_choice == \"paper\"):\n",
    "        return \"You win!\"\n",
    "    else:\n",
    "        return \"Computer wins!\"\n",
    "while True:\n",
    "    print(\"Rock, Paper, Scissors Game\")\n",
    "    print(\"Enter your choice: (rock, paper, scissors)\")\n",
    "    player_choice = input().lower()\n",
    "    if player_choice not in [\"rock\", \"paper\", \"scissors\"]:\n",
    "        print(\"Invalid choice. Please try again.\")\n",
    "        continue\n",
    "    computer_choice = get_computer_choice()\n",
    "    print(f\"You chose: {player_choice}\")\n",
    "    print(f\"Computer chose: {computer_choice}\")\n",
    "    result = determine_winner(player_choice, computer_choice)\n",
    "    print(result)\n",
    "    play_again = input(\"Do you want to play again? (yes or no): \")\n",
    "    if play_again.lower() != \"yes\":\n",
    "        break"
   ]
  },
  {
   "cell_type": "code",
   "execution_count": 56,
   "id": "80c2011f",
   "metadata": {},
   "outputs": [
    {
     "name": "stdout",
     "output_type": "stream",
     "text": [
      "Enter the desired password length: 6\n",
      "Include numbers? (yes or no): yes\n",
      "Include special characters? (yes or no): yes\n",
      "Include mixed case letters? (yes or no): yes\n",
      "Generated Password: DI1IA!\n"
     ]
    }
   ],
   "source": [
    "#23. Develop a program that generates a random password based on user preferences (length, complexity).\n",
    "import random\n",
    "import string\n",
    "def generate_password(length, use_numbers=True, use_special_chars=True, use_mixed_case=True):\n",
    "    characters = string.ascii_letters\n",
    "    if use_numbers:\n",
    "        characters += string.digits\n",
    "    if use_special_chars:\n",
    "        characters += string.punctuation\n",
    "    if use_mixed_case:\n",
    "        characters += string.ascii_uppercase\n",
    "    password = ''.join(random.choice(characters) for _ in range(length))\n",
    "    return password\n",
    "length = int(input(\"Enter the desired password length: \"))\n",
    "use_numbers = input(\"Include numbers? (yes or no): \").lower() == \"yes\"\n",
    "use_special_chars = input(\"Include special characters? (yes or no): \").lower() == \"yes\"\n",
    "use_mixed_case = input(\"Include mixed case letters? (yes or no): \").lower() == \"yes\"\n",
    "password = generate_password(length, use_numbers, use_special_chars, use_mixed_case)\n",
    "print(\"Generated Password: \" + password)"
   ]
  },
  {
   "cell_type": "code",
   "execution_count": 57,
   "id": "d0547fea",
   "metadata": {},
   "outputs": [
    {
     "name": "stdout",
     "output_type": "stream",
     "text": [
      "Welcome to the Text Adventure Game!\n",
      "\n",
      "You find yourself in a dark forest. You can go left or right.\n",
      "\n",
      "Which way do you choose? (left/right): right\n",
      "You chose to go right and discover a hidden treasure chest!\n",
      "\n",
      "Do you open it or leave it? (open/leave): open\n",
      "You open the chest and find a valuable gem. You become rich and victorious!\n",
      "\n",
      "Do you want to play again? (yes/no): no\n",
      "Thanks for playing! Goodbye.\n",
      "\n"
     ]
    }
   ],
   "source": [
    "#24. Create a program that implements a simple text-based adventure game with branching scenarios.\n",
    "import time\n",
    "def print_slow(text):\n",
    "    for char in text:\n",
    "        print(char, end='', flush=True)\n",
    "        time.sleep(0.03)\n",
    "    print(\"\\n\")\n",
    "def game_intro():\n",
    "    print_slow(\"Welcome to the Text Adventure Game!\")\n",
    "    print_slow(\"You find yourself in a dark forest. You can go left or right.\")\n",
    "def left_path():\n",
    "    print_slow(\"You chose to go left and encounter a wild animal.\")\n",
    "    choice = input(\"Do you fight or run? (fight/run): \").lower()\n",
    "    if choice == \"fight\":\n",
    "        print_slow(\"You bravely fight the animal and win! You continue on your journey.\")\n",
    "    else:\n",
    "        print_slow(\"You decide to run away, narrowly escaping the animal. You continue on your journey.\")\n",
    "def right_path():\n",
    "    print_slow(\"You chose to go right and discover a hidden treasure chest!\")\n",
    "    choice = input(\"Do you open it or leave it? (open/leave): \").lower()\n",
    "    if choice == \"open\":\n",
    "        print_slow(\"You open the chest and find a valuable gem. You become rich and victorious!\")\n",
    "    else:\n",
    "        print_slow(\"You decide to leave the chest and continue on your journey.\")\n",
    "while True:\n",
    "    game_intro()\n",
    "    direction = input(\"Which way do you choose? (left/right): \").lower()\n",
    "    \n",
    "    if direction == \"left\":\n",
    "        left_path()\n",
    "    elif direction == \"right\":\n",
    "        right_path()\n",
    "    else:\n",
    "        print_slow(\"Invalid choice. Please try again.\")\n",
    "    play_again = input(\"Do you want to play again? (yes/no): \").lower()\n",
    "    if play_again != \"yes\":\n",
    "        print_slow(\"Thanks for playing! Goodbye.\")\n",
    "        break"
   ]
  },
  {
   "cell_type": "code",
   "execution_count": 58,
   "id": "9b305fc7",
   "metadata": {},
   "outputs": [
    {
     "name": "stdout",
     "output_type": "stream",
     "text": [
      "Enter coefficient a: 4\n",
      "Enter coefficient b: 8\n",
      "The solution for x is: -2.0\n"
     ]
    }
   ],
   "source": [
    "#25. Build a program that solves a linear equation  for x, considering different cases.\n",
    "def solve_linear_equation(a, b):\n",
    "    if a == 0:\n",
    "        if b == 0:\n",
    "            return \"Infinite solutions (all real numbers are solutions).\"\n",
    "        else:\n",
    "            return \"No solution (the equation is inconsistent).\"\n",
    "    else:\n",
    "        x = -b / a\n",
    "        return x\n",
    "a = float(input(\"Enter coefficient a: \"))\n",
    "b = float(input(\"Enter coefficient b: \"))\n",
    "solution = solve_linear_equation(a, b)\n",
    "print(f\"The solution for x is: {solution}\")"
   ]
  },
  {
   "cell_type": "code",
   "execution_count": 59,
   "id": "fd1cb012",
   "metadata": {},
   "outputs": [
    {
     "name": "stdout",
     "output_type": "stream",
     "text": [
      "What is the capital of France?\n",
      "A) London\n",
      "B) Berlin\n",
      "C) Paris\n",
      "D) Madrid\n",
      "Your choice (A/B/C/D): A\n",
      "Wrong! The correct answer is C.\n",
      "\n",
      "Which planet is known as the Red Planet?\n",
      "A) Venus\n",
      "B) Mars\n",
      "C) Jupiter\n",
      "D) Saturn\n",
      "Your choice (A/B/C/D): C\n",
      "Wrong! The correct answer is B.\n",
      "\n",
      "What is the largest mammal?\n",
      "A) Elephant\n",
      "B) Blue Whale\n",
      "C) Giraffe\n",
      "D) Lion\n",
      "Your choice (A/B/C/D): B\n",
      "Correct!\n",
      "\n",
      "Your final score is 1/3.\n"
     ]
    }
   ],
   "source": [
    "#26. Write a program that simulates a basic quiz game with multiple-choice questions and scoring.\n",
    "questions = [\n",
    "    {\n",
    "        'question': 'What is the capital of France?',\n",
    "        'choices': ['A) London', 'B) Berlin', 'C) Paris', 'D) Madrid'],\n",
    "        'answer': 'C'\n",
    "    },\n",
    "    {\n",
    "        'question': 'Which planet is known as the Red Planet?',\n",
    "        'choices': ['A) Venus', 'B) Mars', 'C) Jupiter', 'D) Saturn'],\n",
    "        'answer': 'B'\n",
    "    },\n",
    "    {\n",
    "        'question': 'What is the largest mammal?',\n",
    "        'choices': ['A) Elephant', 'B) Blue Whale', 'C) Giraffe', 'D) Lion'],\n",
    "        'answer': 'B'\n",
    "    }\n",
    "]\n",
    "score = 0\n",
    "def ask_question(question, choices, answer):\n",
    "    print(question)\n",
    "    for choice in choices:\n",
    "        print(choice)\n",
    "    user_answer = input('Your choice (A/B/C/D): ').upper()\n",
    "    if user_answer == answer:\n",
    "        print('Correct!\\n')\n",
    "        return 1\n",
    "    else:\n",
    "        print(f'Wrong! The correct answer is {answer}.\\n')\n",
    "        return 0\n",
    "for question in questions:\n",
    "    score += ask_question(question['question'], question['choices'], question['answer'])\n",
    "print(f'Your final score is {score}/{len(questions)}.')"
   ]
  },
  {
   "cell_type": "code",
   "execution_count": 60,
   "id": "36312c2b",
   "metadata": {},
   "outputs": [
    {
     "name": "stdout",
     "output_type": "stream",
     "text": [
      "Enter a year: 6\n",
      "6 is not a prime year.\n"
     ]
    }
   ],
   "source": [
    "#27. Develop a program that determines whether a given year is a prime number or not.\n",
    "def is_prime(year):\n",
    "    if year <= 1:\n",
    "        return False\n",
    "    if year <= 3:\n",
    "        return True\n",
    "    if year % 2 == 0 or year % 3 == 0:\n",
    "        return False\n",
    "    i = 5\n",
    "    while i * i <= year:\n",
    "        if year % i == 0 or year % (i + 2) == 0:\n",
    "            return False\n",
    "        i += 6\n",
    "    return True\n",
    "year = int(input(\"Enter a year: \"))\n",
    "if is_prime(year):\n",
    "    print(f\"{year} is a prime year.\")\n",
    "else:\n",
    "    print(f\"{year} is not a prime year.\")"
   ]
  },
  {
   "cell_type": "code",
   "execution_count": 61,
   "id": "56f548e9",
   "metadata": {},
   "outputs": [
    {
     "name": "stdout",
     "output_type": "stream",
     "text": [
      "Enter the first number: 23\n",
      "Enter the second number: 12\n",
      "Enter the third number: 65\n",
      "The numbers in ascending order are: [12.0, 23.0, 65.0]\n"
     ]
    }
   ],
   "source": [
    "#28. Create a program that sorts three numbers in ascending order using conditional statements.\n",
    "num1 = float(input(\"Enter the first number: \"))\n",
    "num2 = float(input(\"Enter the second number: \"))\n",
    "num3 = float(input(\"Enter the third number: \"))\n",
    "if num1 <= num2 <= num3:\n",
    "    sorted_nums = [num1, num2, num3]\n",
    "elif num1 <= num3 <= num2:\n",
    "    sorted_nums = [num1, num3, num2]\n",
    "elif num2 <= num1 <= num3:\n",
    "    sorted_nums = [num2, num1, num3]\n",
    "elif num2 <= num3 <= num1:\n",
    "    sorted_nums = [num2, num3, num1]\n",
    "elif num3 <= num1 <= num2:\n",
    "    sorted_nums = [num3, num1, num2]\n",
    "else:\n",
    "    sorted_nums = [num3, num2, num1]\n",
    "print(\"The numbers in ascending order are:\", sorted_nums)"
   ]
  },
  {
   "cell_type": "code",
   "execution_count": 62,
   "id": "232a83f1",
   "metadata": {},
   "outputs": [
    {
     "name": "stdout",
     "output_type": "stream",
     "text": [
      "Enter coefficient a: 4\n",
      "Enter coefficient b: 5\n",
      "Enter coefficient c: 6\n",
      "Enter coefficient d: 7\n",
      "Enter coefficient e: 8\n",
      "Enter an initial guess for the root: 9\n",
      "An approximate root is: -1.164005\n"
     ]
    }
   ],
   "source": [
    "#29. Build a program that determines the roots of a quartic equation using numerical methods.\n",
    "a = float(input(\"Enter coefficient a: \"))\n",
    "b = float(input(\"Enter coefficient b: \"))\n",
    "c = float(input(\"Enter coefficient c: \"))\n",
    "d = float(input(\"Enter coefficient d: \"))\n",
    "e = float(input(\"Enter coefficient e: \"))\n",
    "def f(x):\n",
    "    return a * x**4 + b * x**3 + c * x**2 + d * x + e\n",
    "def f_prime(x):\n",
    "    return 4 * a * x**3 + 3 * b * x**2 + 2 * c * x + d\n",
    "x0 = float(input(\"Enter an initial guess for the root: \"))\n",
    "tolerance = 1e-6\n",
    "max_iterations = 100\n",
    "for i in range(max_iterations):\n",
    "    x1 = x0 - f(x0) / f_prime(x0)\n",
    "    if abs(x1 - x0) < tolerance:\n",
    "        break\n",
    "    x0 = x1\n",
    "if i < max_iterations:\n",
    "    print(f\"An approximate root is: {x1:.6f}\")\n",
    "else:\n",
    "    print(\"No convergence reached within the maximum iterations.\")"
   ]
  },
  {
   "cell_type": "code",
   "execution_count": 63,
   "id": "a44d3e87",
   "metadata": {},
   "outputs": [
    {
     "name": "stdout",
     "output_type": "stream",
     "text": [
      "Enter your weight (in kilograms): 231\n",
      "Enter your height (in meters): 453\n",
      "Your BMI is: 0.00\n",
      "You are underweight. You should consider gaining weight in a healthy manner.\n"
     ]
    }
   ],
   "source": [
    "#30. Write a program that calculates the BMI (Body Mass Index) and provides health recommendations based on the user's input.\n",
    "def calculate_bmi(weight, height):\n",
    "    return weight / (height ** 2)\n",
    "def health_recommendations(bmi):\n",
    "    if bmi < 18.5:\n",
    "        return \"You are underweight. You should consider gaining weight in a healthy manner.\"\n",
    "    elif 18.5 <= bmi < 24.9:\n",
    "        return \"Your weight is in the healthy range. Keep up the good work!\"\n",
    "    elif 25 <= bmi < 29.9:\n",
    "        return \"You are overweight. Consider losing weight through a balanced diet and exercise.\"\n",
    "    else:\n",
    "        return \"You are obese. It is important to consult a healthcare professional for guidance.\"\n",
    "weight = float(input(\"Enter your weight (in kilograms): \"))\n",
    "height = float(input(\"Enter your height (in meters): \"))\n",
    "bmi = calculate_bmi(weight, height)\n",
    "print(f\"Your BMI is: {bmi:.2f}\")\n",
    "recommendations = health_recommendations(bmi)\n",
    "print(recommendations)"
   ]
  },
  {
   "cell_type": "markdown",
   "id": "25f123e1",
   "metadata": {},
   "source": [
    "# Challenge Level:"
   ]
  },
  {
   "cell_type": "code",
   "execution_count": 64,
   "id": "a3827917",
   "metadata": {},
   "outputs": [
    {
     "name": "stdout",
     "output_type": "stream",
     "text": [
      "Enter a password: 4\n",
      "Password is not valid. Please ensure it meets the complexity requirements.\n"
     ]
    }
   ],
   "source": [
    "# 31. Create a program that validates a password based on complexity rules (length, characters, etc.).\n",
    "def is_valid_password(password):\n",
    "    if len(password) < 8:\n",
    "        return False\n",
    "    if not any(c.islower() for c in password):\n",
    "        return False\n",
    "    if not any(c.isupper() for c in password):\n",
    "        return False\n",
    "    if not any(c.isdigit() for c in password):\n",
    "        return False\n",
    "    special_characters = \"!@#$%^&*()_+[]{}|;':,.<>?\"\n",
    "    if not any(c in special_characters for c in password):\n",
    "        return False\n",
    "    return True\n",
    "password = input(\"Enter a password: \")\n",
    "if is_valid_password(password):\n",
    "    print(\"Password is valid.\")\n",
    "else:\n",
    "    print(\"Password is not valid. Please ensure it meets the complexity requirements.\")"
   ]
  },
  {
   "cell_type": "code",
   "execution_count": 66,
   "id": "6b0dc2a3",
   "metadata": {},
   "outputs": [
    {
     "name": "stdout",
     "output_type": "stream",
     "text": [
      "Enter the number of rows for the matrices: 2\n",
      "Enter the number of columns for the matrices: 3\n",
      "Enter the first matrix:\n",
      "Enter the element at row 1, column 1: 4\n",
      "Enter the element at row 1, column 2: 5\n",
      "Enter the element at row 1, column 3: 6\n",
      "Enter the element at row 2, column 1: 2\n",
      "Enter the element at row 2, column 2: 3\n",
      "Enter the element at row 2, column 3: 4\n",
      "Enter the second matrix:\n",
      "Enter the element at row 1, column 1: 1\n",
      "Enter the element at row 1, column 2: 2\n",
      "Enter the element at row 1, column 3: 6\n",
      "Enter the element at row 2, column 1: 7\n",
      "Enter the element at row 2, column 2: 8\n",
      "Enter the element at row 2, column 3: 9\n",
      "Matrix Addition:\n",
      "5.0 7.0 12.0\n",
      "9.0 11.0 13.0\n",
      "Matrix Subtraction:\n",
      "3.0 3.0 0.0\n",
      "-5.0 -5.0 -5.0\n"
     ]
    }
   ],
   "source": [
    "#32. Develop a program that performs matrix addition and subtraction based on user input.\n",
    "def input_matrix(rows, cols):\n",
    "    matrix = []\n",
    "    for i in range(rows):\n",
    "        row = []\n",
    "        for j in range(cols):\n",
    "            value = float(input(f\"Enter the element at row {i+1}, column {j+1}: \"))\n",
    "            row.append(value)\n",
    "        matrix.append(row)\n",
    "    return matrix\n",
    "def display_matrix(matrix):\n",
    "    for row in matrix:\n",
    "        print(\" \".join(map(str, row)))\n",
    "def add_matrices(matrix1, matrix2):\n",
    "    result = []\n",
    "    for i in range(len(matrix1)):\n",
    "        row = []\n",
    "        for j in range(len(matrix1[0])):\n",
    "            row.append(matrix1[i][j] + matrix2[i][j])\n",
    "        result.append(row)\n",
    "    return result\n",
    "def subtract_matrices(matrix1, matrix2):\n",
    "    result = []\n",
    "    for i in range(len(matrix1)):\n",
    "        row = []\n",
    "        for j in range(len(matrix1[0])):\n",
    "            row.append(matrix1[i][j] - matrix2[i][j])\n",
    "        result.append(row)\n",
    "    return result\n",
    "rows = int(input(\"Enter the number of rows for the matrices: \"))\n",
    "cols = int(input(\"Enter the number of columns for the matrices: \"))\n",
    "print(\"Enter the first matrix:\")\n",
    "matrix1 = input_matrix(rows, cols)\n",
    "print(\"Enter the second matrix:\")\n",
    "matrix2 = input_matrix(rows, cols)\n",
    "if len(matrix1) == len(matrix2) and len(matrix1[0]) == len(matrix2[0]):\n",
    "    print(\"Matrix Addition:\")\n",
    "    result_addition = add_matrices(matrix1, matrix2)\n",
    "    display_matrix(result_addition)\n",
    "\n",
    "    print(\"Matrix Subtraction:\")\n",
    "    result_subtraction = subtract_matrices(matrix1, matrix2)\n",
    "    display_matrix(result_subtraction)\n",
    "else:\n",
    "    print(\"Matrix addition and subtraction are not possible. Matrices must have the same dimensions.\")"
   ]
  },
  {
   "cell_type": "code",
   "execution_count": 67,
   "id": "e24b9bf2",
   "metadata": {},
   "outputs": [
    {
     "name": "stdout",
     "output_type": "stream",
     "text": [
      "Enter the first number: 34\n",
      "Enter the second number: 21\n",
      "The GCD of 34 and 21 is: 1\n"
     ]
    }
   ],
   "source": [
    "#33. Write a program that calculates the greatest common divisor (GCD) of two numbers using the Euclidean algorithm.\n",
    "def gcd_euclidean(a, b):\n",
    "    while b:\n",
    "        a, b = b, a % b\n",
    "    return a\n",
    "num1 = int(input(\"Enter the first number: \"))\n",
    "num2 = int(input(\"Enter the second number: \"))\n",
    "gcd = gcd_euclidean(num1, num2)\n",
    "print(f\"The GCD of {num1} and {num2} is: {gcd}\")"
   ]
  },
  {
   "cell_type": "code",
   "execution_count": 1,
   "id": "9daa35c2",
   "metadata": {},
   "outputs": [
    {
     "name": "stdout",
     "output_type": "stream",
     "text": [
      "Enter the number of rows for the first matrix: 2\n",
      "Enter the number of columns for the first matrix: 2\n",
      "Enter the number of rows for the second matrix: 1\n",
      "Enter the number of columns for the second matrix: 1\n",
      "Enter the first matrix:\n",
      "Enter the element at row 1, column 1: 3\n",
      "Enter the element at row 1, column 2: 4\n",
      "Enter the element at row 2, column 1: 5\n",
      "Enter the element at row 2, column 2: 6\n",
      "Enter the second matrix:\n",
      "Enter the element at row 1, column 1: 2\n",
      "Matrix multiplication is not possible. Ensure that the number of columns in the first matrix equals the number of rows in the second matrix.\n"
     ]
    }
   ],
   "source": [
    "#34. Build a program that performs matrix multiplication using nested loops and conditional statements.\n",
    "def input_matrix(rows, cols):\n",
    "    matrix = []\n",
    "    for i in range(rows):\n",
    "        row = []\n",
    "        for j in range(cols):\n",
    "            value = float(input(f\"Enter the element at row {i+1}, column {j+1}: \"))\n",
    "            row.append(value)\n",
    "        matrix.append(row)\n",
    "    return matrix\n",
    "def display_matrix(matrix):\n",
    "    for row in matrix:\n",
    "        print(\" \".join(map(str, row)))\n",
    "def multiply_matrices(matrix1, matrix2):\n",
    "    rows1, cols1 = len(matrix1), len(matrix1[0])\n",
    "    rows2, cols2 = len(matrix2), len(matrix2[0])\n",
    "    if cols1 != rows2:\n",
    "        return None \n",
    "    result = []\n",
    "    for i in range(rows1):\n",
    "        row = []\n",
    "        for j in range(cols2):\n",
    "            element_sum = 0\n",
    "            for k in range(cols1):\n",
    "                element_sum += matrix1[i][k] * matrix2[k][j]\n",
    "            row.append(element_sum)\n",
    "        result.append(row)\n",
    "    return result\n",
    "rows1 = int(input(\"Enter the number of rows for the first matrix: \"))\n",
    "cols1 = int(input(\"Enter the number of columns for the first matrix: \"))\n",
    "rows2 = int(input(\"Enter the number of rows for the second matrix: \"))\n",
    "cols2 = int(input(\"Enter the number of columns for the second matrix: \"))\n",
    "print(\"Enter the first matrix:\")\n",
    "matrix1 = input_matrix(rows1, cols1)\n",
    "print(\"Enter the second matrix:\")\n",
    "matrix2 = input_matrix(rows2, cols2)\n",
    "result = multiply_matrices(matrix1, matrix2)\n",
    "if result:\n",
    "    print(\"Matrix Multiplication Result:\")\n",
    "    display_matrix(result)\n",
    "else:\n",
    "    print(\"Matrix multiplication is not possible. Ensure that the number of columns in the first matrix equals the number of rows in the second matrix.\")"
   ]
  },
  {
   "cell_type": "code",
   "execution_count": 8,
   "id": "a486f6c5",
   "metadata": {},
   "outputs": [
    {
     "name": "stdout",
     "output_type": "stream",
     "text": [
      "Welcome to Tic-Tac-Toe!\n",
      "  |   |  \n",
      "---------\n",
      "  |   |  \n",
      "---------\n",
      "  |   |  \n",
      "---------\n",
      "Player X's turn\n",
      "Enter row and column (0-2) separated by a space: 1\n"
     ]
    },
    {
     "ename": "ValueError",
     "evalue": "not enough values to unpack (expected 2, got 1)",
     "output_type": "error",
     "traceback": [
      "\u001b[1;31m---------------------------------------------------------------------------\u001b[0m",
      "\u001b[1;31mValueError\u001b[0m                                Traceback (most recent call last)",
      "Cell \u001b[1;32mIn[8], line 31\u001b[0m\n\u001b[0;32m     29\u001b[0m \u001b[38;5;28mprint\u001b[39m(\u001b[38;5;124mf\u001b[39m\u001b[38;5;124m\"\u001b[39m\u001b[38;5;124mPlayer \u001b[39m\u001b[38;5;132;01m{\u001b[39;00mcurrent_player\u001b[38;5;132;01m}\u001b[39;00m\u001b[38;5;124m'\u001b[39m\u001b[38;5;124ms turn\u001b[39m\u001b[38;5;124m\"\u001b[39m)\n\u001b[0;32m     30\u001b[0m \u001b[38;5;28;01mif\u001b[39;00m current_player \u001b[38;5;241m==\u001b[39m \u001b[38;5;124m\"\u001b[39m\u001b[38;5;124mX\u001b[39m\u001b[38;5;124m\"\u001b[39m:\n\u001b[1;32m---> 31\u001b[0m     row, col \u001b[38;5;241m=\u001b[39m \u001b[38;5;28mmap\u001b[39m(\u001b[38;5;28mint\u001b[39m, \u001b[38;5;28minput\u001b[39m(\u001b[38;5;124m\"\u001b[39m\u001b[38;5;124mEnter row and column (0-2) separated by a space: \u001b[39m\u001b[38;5;124m\"\u001b[39m)\u001b[38;5;241m.\u001b[39msplit())\n\u001b[0;32m     32\u001b[0m \u001b[38;5;28;01melse\u001b[39;00m:\n\u001b[0;32m     33\u001b[0m     row, col \u001b[38;5;241m=\u001b[39m computer_move(board)\n",
      "\u001b[1;31mValueError\u001b[0m: not enough values to unpack (expected 2, got 1)"
     ]
    }
   ],
   "source": [
    "#35. Create a program that simulates a basic text-based tic-tac-toe game against the computer.\n",
    "import random\n",
    "def display_board(board):\n",
    "    for row in board:\n",
    "        print(\" | \".join(row))\n",
    "        print(\"-\" * 9)\n",
    "def is_game_over(board, player):\n",
    "    for row in board:\n",
    "        if all(cell == player for cell in row):\n",
    "            return True\n",
    "    for col in range(3):\n",
    "        if all(board[row][col] == player for row in range(3)):\n",
    "            return True\n",
    "    if all(board[i][i] == player for i in range(3)) or all(board[i][2 - i] == player for i in range(3)):\n",
    "        return True\n",
    "    return False\n",
    "def computer_move(board):\n",
    "    empty_cells = [(i, j) for i in range(3) for j in range(3) if board[i][j] == \" \"]\n",
    "    if empty_cells:\n",
    "        return random.choice(empty_cells)\n",
    "    else:\n",
    "        return None\n",
    "board = [[\" \" for _ in range(3)] for _ in range(3)]\n",
    "players = [\"X\", \"O\"]\n",
    "current_player = random.choice(players)\n",
    "print(\"Welcome to Tic-Tac-Toe!\")\n",
    "while True:\n",
    "    display_board(board)\n",
    "    print(f\"Player {current_player}'s turn\")\n",
    "    if current_player == \"X\":\n",
    "        row, col = map(int, input(\"Enter row and column (0-2) separated by a space: \").split())\n",
    "    else:\n",
    "        row, col = computer_move(board)\n",
    "    if board[row][col] == \" \":\n",
    "        board[row][col] = current_player\n",
    "        if is_game_over(board, current_player):\n",
    "            display_board(board)\n",
    "            print(f\"Player {current_player} wins!\")\n",
    "            break\n",
    "        if all(cell != \" \" for row in board for cell in row):\n",
    "            display_board(board)\n",
    "            print(\"It's a draw!\")\n",
    "            break\n",
    "        current_player = \"X\" if current_player == \"O\" else \"O\"\n",
    "    else:\n",
    "        print(\"Invalid move. Try again.\")\n",
    "print(\"Game over. Thanks for playing!\")"
   ]
  },
  {
   "cell_type": "code",
   "execution_count": 10,
   "id": "e8007252",
   "metadata": {},
   "outputs": [
    {
     "name": "stdout",
     "output_type": "stream",
     "text": [
      "Enter the number of terms for the Fibonacci sequence: 3\n",
      "Fibonacci Sequence:\n",
      "[0, 1, 1]\n"
     ]
    }
   ],
   "source": [
    "#36. Write a program that generates Fibonacci numbers up to a specified term using iterative methods.\n",
    "def generate_fibonacci(n):\n",
    "    fibonacci_sequence = [0, 1]\n",
    "    while len(fibonacci_sequence) < n:\n",
    "        next_number = fibonacci_sequence[-1] + fibonacci_sequence[-2]\n",
    "        fibonacci_sequence.append(next_number)\n",
    "    return fibonacci_sequence\n",
    "n = int(input(\"Enter the number of terms for the Fibonacci sequence: \"))\n",
    "fibonacci_sequence = generate_fibonacci(n)\n",
    "print(\"Fibonacci Sequence:\")\n",
    "print(fibonacci_sequence)"
   ]
  },
  {
   "cell_type": "code",
   "execution_count": 16,
   "id": "aa7ea211",
   "metadata": {},
   "outputs": [
    {
     "name": "stdout",
     "output_type": "stream",
     "text": [
      "Enter the value of n: 1\n",
      "The 1th Fibonacci term is: 1\n"
     ]
    }
   ],
   "source": [
    "#37. Develop a program that calculates the nth term of the Fibonacci sequence using memoization.\n",
    "ibonacci_cache = {}\n",
    "def fibonacci(n):\n",
    "    if n in fibonacci_cache:\n",
    "        return fibonacci_cache[n]\n",
    "    if n <= 1:\n",
    "        result = n\n",
    "    else:\n",
    "        result = fibonacci(n - 1) + fibonacci(n - 2)\n",
    "    fibonacci_cache[n] = result\n",
    "    return result\n",
    "n = int(input(\"Enter the value of n: \"))\n",
    "if n < 0:\n",
    "    print(\"Please enter a non-negative integer.\")\n",
    "else:\n",
    "    result = fibonacci(n)\n",
    "    print(f\"The {n}th Fibonacci term is: {result}\")"
   ]
  },
  {
   "cell_type": "code",
   "execution_count": 18,
   "id": "893bade8",
   "metadata": {},
   "outputs": [
    {
     "name": "stdout",
     "output_type": "stream",
     "text": [
      "Enter the year: 23\n",
      "Enter the month (1-12): 10\n",
      "Calendar for October 23:\n",
      "\n",
      "     October 23\n",
      "Mo Tu We Th Fr Sa Su\n",
      "                   1\n",
      " 2  3  4  5  6  7  8\n",
      " 9 10 11 12 13 14 15\n",
      "16 17 18 19 20 21 22\n",
      "23 24 25 26 27 28 29\n",
      "30 31\n",
      "\n"
     ]
    }
   ],
   "source": [
    "#38. Create a program that generates a calendar for a given month and year using conditional statements.\n",
    "import calendar\n",
    "year = int(input(\"Enter the year: \"))\n",
    "month = int(input(\"Enter the month (1-12): \"))\n",
    "if month < 1 or month > 12:\n",
    "    print(\"Invalid month input. Please enter a month between 1 and 12.\")\n",
    "else:\n",
    "    cal = calendar.month(year, month)\n",
    "    print(f\"Calendar for {calendar.month_name[month]} {year}:\\n\")\n",
    "    print(cal)"
   ]
  },
  {
   "cell_type": "code",
   "execution_count": 19,
   "id": "20de84c0",
   "metadata": {},
   "outputs": [
    {
     "name": "stdout",
     "output_type": "stream",
     "text": [
      "Welcome to Blackjack!\n",
      "Your hand: 5, 10\n",
      "Computer's hand: 8 and an unknown card\n",
      "Do you want to 'hit' or 'stand'? 5\n",
      "Invalid input. Please enter 'hit' or 'stand'.\n",
      "Do you want to 'hit' or 'stand'? hit\n",
      "Your hand: 5, 10, 6\n",
      "Blackjack! You win!\n",
      "Thanks for playing Blackjack!\n"
     ]
    }
   ],
   "source": [
    "#39. Build a program that simulates a basic text-based blackjack game against the computer.\n",
    "import random\n",
    "def deal_card():\n",
    "    cards = [\"2\", \"3\", \"4\", \"5\", \"6\", \"7\", \"8\", \"9\", \"10\", \"J\", \"Q\", \"K\", \"A\"]\n",
    "    return random.choice(cards)\n",
    "def hand_value(hand):\n",
    "    value = 0\n",
    "    num_aces = 0\n",
    "    for card in hand:\n",
    "        if card in [\"K\", \"Q\", \"J\"]:\n",
    "            value += 10\n",
    "        elif card == \"A\":\n",
    "            num_aces += 1\n",
    "            value += 11\n",
    "        else:\n",
    "            value += int(card)\n",
    "    while num_aces > 0 and value > 21:\n",
    "        value -= 10\n",
    "        num_aces -= 1\n",
    "    return value\n",
    "player_hand = [deal_card(), deal_card()]\n",
    "computer_hand = [deal_card()]\n",
    "print(\"Welcome to Blackjack!\")\n",
    "print(f\"Your hand: {', '.join(player_hand)}\")\n",
    "print(f\"Computer's hand: {computer_hand[0]} and an unknown card\")\n",
    "while True:\n",
    "    player_value = hand_value(player_hand)\n",
    "    if player_value == 21:\n",
    "        print(\"Blackjack! You win!\")\n",
    "        break\n",
    "    elif player_value > 21:\n",
    "        print(\"Bust! You lose.\")\n",
    "        break\n",
    "    action = input(\"Do you want to 'hit' or 'stand'? \").lower()\n",
    "    if action == \"hit\":\n",
    "        player_hand.append(deal_card())\n",
    "        print(f\"Your hand: {', '.join(player_hand)}\")\n",
    "    elif action == \"stand\":\n",
    "        while hand_value(computer_hand) < 17:\n",
    "            computer_hand.append(deal_card())\n",
    "        print(f\"Computer's hand: {', '.join(computer_hand)}\")\n",
    "        player_value = hand_value(player_hand)\n",
    "        computer_value = hand_value(computer_hand)\n",
    "        if computer_value > 21:\n",
    "            print(\"Computer busts! You win!\")\n",
    "        elif player_value > computer_value:\n",
    "            print(\"You win!\")\n",
    "        elif player_value < computer_value:\n",
    "            print(\"You lose.\")\n",
    "        else:\n",
    "            print(\"It's a push. The game is a tie.\")\n",
    "        break\n",
    "    else:\n",
    "        print(\"Invalid input. Please enter 'hit' or 'stand'.\")\n",
    "print(\"Thanks for playing Blackjack!\")"
   ]
  },
  {
   "cell_type": "code",
   "execution_count": 21,
   "id": "519992e4",
   "metadata": {},
   "outputs": [
    {
     "name": "stdout",
     "output_type": "stream",
     "text": [
      "Enter a number: 2\n",
      "The prime factors of 2 are: [2]\n"
     ]
    }
   ],
   "source": [
    "#40. Write a program that generates the prime factors of a given number using trial division.\n",
    "def prime_factors(n):\n",
    "    factors = []\n",
    "    div = 2\n",
    "    while div <= n:\n",
    "        if n % div == 0:\n",
    "            factors.append(div)\n",
    "            n = n // div\n",
    "        else:\n",
    "            div += 1\n",
    "    return factors\n",
    "num = int(input(\"Enter a number: \"))\n",
    "factors = prime_factors(num)\n",
    "if len(factors) == 0:\n",
    "    print(f\"{num} has no prime factors.\")\n",
    "else:\n",
    "    print(f\"The prime factors of {num} are: {factors}\")"
   ]
  },
  {
   "cell_type": "code",
   "execution_count": null,
   "id": "376af7db",
   "metadata": {},
   "outputs": [],
   "source": []
  }
 ],
 "metadata": {
  "kernelspec": {
   "display_name": "Python 3 (ipykernel)",
   "language": "python",
   "name": "python3"
  },
  "language_info": {
   "codemirror_mode": {
    "name": "ipython",
    "version": 3
   },
   "file_extension": ".py",
   "mimetype": "text/x-python",
   "name": "python",
   "nbconvert_exporter": "python",
   "pygments_lexer": "ipython3",
   "version": "3.10.9"
  }
 },
 "nbformat": 4,
 "nbformat_minor": 5
}
